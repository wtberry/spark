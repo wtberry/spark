{
 "cells": [
  {
   "cell_type": "markdown",
   "metadata": {},
   "source": [
    "# PySpark Tutorial part 3\n",
    "\n",
    "## Broadcast & Accumulator\n",
    "\n",
    "### Terminology\n",
    "\n",
    "For parallel processing, Apache Spark uses shared variables.\n",
    "There are two types of shared variables supported by Apache Spark −\n",
    "* Broadcast: Broadcast variables are used to save the copy of data across all nodes.\n",
    "* Accumulator: Accumulator variables are used for aggregating the information through associative and commutative operations. \n",
    "\n",
    "### Broadcast \n",
    "Broadcast variable is cached on all the machines and not sent on machines with tasks. The following code block has the details of a Broadcast class for PySpark.\n",
    "\n",
    "```python\n",
    "class pyspark.Broadcast (\n",
    "   sc = None, \n",
    "   value = None, # this stores data, used to return broadcasted value\n",
    "   pickle_registry = None, \n",
    "   path = None\n",
    ")\n",
    "'''\n",
    "\n",
    "\n",
    "#### Example"
   ]
  },
  {
   "cell_type": "code",
   "execution_count": 1,
   "metadata": {},
   "outputs": [
    {
     "name": "stdout",
     "output_type": "stream",
     "text": [
      "stored data: \n",
      "['scala', 'java', 'hadoop', 'spark', 'akka']\n",
      "type of .data: <class 'list'>\n",
      "an element: hadoop\n"
     ]
    }
   ],
   "source": [
    "# importing needed modules\n",
    "from pyspark import SparkContext\n",
    "\n",
    "sc = SparkContext('local', 'broadcast app')\n",
    "words = [\"scala\", \"java\", \"hadoop\", \"spark\", \"akka\"]\n",
    "bc = sc.broadcast(words)\n",
    "data = bc.value\n",
    "print(f'stored data: \\n{data}')\n",
    "print(f'type of .data: {type(data)}')\n",
    "# you can also reference each element\n",
    "print(f'an element: {bc.value[2]}')\n",
    "sc.stop()"
   ]
  },
  {
   "cell_type": "markdown",
   "metadata": {},
   "source": [
    "### Accumulator\n",
    "\n",
    "You can use an accumulator for a sum operation or counters (in MapReduce). The following code block has the details of an Accumulator class for PySpark.\n",
    "\n",
    "```python\n",
    "class pyspark.Accumulator(aid, value, accum_param)\n",
    "```\n",
    "#### Example"
   ]
  },
  {
   "cell_type": "code",
   "execution_count": 3,
   "metadata": {},
   "outputs": [
    {
     "name": "stdout",
     "output_type": "stream",
     "text": [
      "accumulated value: 150\n",
      "type: <class 'pyspark.accumulators.Accumulator'>\n"
     ]
    }
   ],
   "source": [
    "sc.stop()\n",
    "\n",
    "sc = SparkContext('local', 'accumulator app')\n",
    "num = sc.accumulator(10) # initialize as 10\n",
    "\n",
    "def f(x):\n",
    "    global num # why??\n",
    "    num += x\n",
    "\n",
    "data = [20,30,40,50]\n",
    "rdd = sc.parallelize(data)\n",
    "result = rdd.foreach(f)\n",
    "fin = num.value\n",
    "print(f'accumulated value: {fin}')\n",
    "print(f'type: {type(num)}')\n",
    "sc.stop()"
   ]
  }
 ],
 "metadata": {
  "kernelspec": {
   "display_name": "Python 3",
   "language": "python",
   "name": "python3"
  },
  "language_info": {
   "codemirror_mode": {
    "name": "ipython",
    "version": 3
   },
   "file_extension": ".py",
   "mimetype": "text/x-python",
   "name": "python",
   "nbconvert_exporter": "python",
   "pygments_lexer": "ipython3",
   "version": "3.6.8"
  }
 },
 "nbformat": 4,
 "nbformat_minor": 2
}
