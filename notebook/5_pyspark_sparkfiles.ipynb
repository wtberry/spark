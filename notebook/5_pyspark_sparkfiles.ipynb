{
 "cells": [
  {
   "cell_type": "markdown",
   "metadata": {},
   "source": [
    "# PySpark part 5 \n",
    "\n",
    "## SparkFiles\n",
    "\n",
    "In Apache Spark, you can upload your files using `sc.addFile` (sc is your default SparkContext) and get the path on a worker using `SparkFiles.get`. Thus, SparkFiles resolve the paths to files added through `SparkContext.addFile()`.\n",
    "\n",
    "### Terminology\n",
    "\n",
    "SparkFiles contain the following classmethods - \n",
    "\n",
    "* `get(filename)`: specifies the path of the file that is added through SparkContext.addFile().\n",
    "* `getrootdirectorty()`: specififed the path to the root directory, which contains the file added through the SparkContext.addFile().\n",
    "\n",
    "### Example\n",
    "\n",
    "\n"
   ]
  },
  {
   "cell_type": "code",
   "execution_count": 3,
   "metadata": {},
   "outputs": [
    {
     "name": "stdout",
     "output_type": "stream",
     "text": [
      "file path: /tmp/spark-edd6ec83-1340-43ad-9e18-6225498e76d9/userFiles-94699d6e-842e-4db6-99b2-c43d2421edc8/README.md\n"
     ]
    }
   ],
   "source": [
    "from pyspark import SparkContext\n",
    "from pyspark import SparkFiles\n",
    "import os\n",
    "sc.stop()\n",
    "\n",
    "filepath = os.path.join(os.getcwd(), 'README.md')\n",
    "filename = 'README.md'\n",
    "\n",
    "sc = SparkContext('local', 'sparkfile app')\n",
    "sc.addFile(filepath)\n",
    "print(f'file path: {SparkFiles.get(filename)}')\n",
    "sc.stop()"
   ]
  }
 ],
 "metadata": {
  "kernelspec": {
   "display_name": "Python 3",
   "language": "python",
   "name": "python3"
  },
  "language_info": {
   "codemirror_mode": {
    "name": "ipython",
    "version": 3
   },
   "file_extension": ".py",
   "mimetype": "text/x-python",
   "name": "python",
   "nbconvert_exporter": "python",
   "pygments_lexer": "ipython3",
   "version": "3.6.8"
  }
 },
 "nbformat": 4,
 "nbformat_minor": 2
}
