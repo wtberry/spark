{
 "cells": [
  {
   "cell_type": "markdown",
   "metadata": {},
   "source": [
    "# PySpark Tutorial \n",
    "\n",
    "## Basic idea\n",
    "\n",
    "from [tutorial point](https://www.tutorialspoint.com/pyspark/pyspark_sparkcontext.htm)\n",
    "\n",
    "- **SparkContext**: is the entry point to any spark functionality.\n",
    "> SparkContext uses Py4J to launch a JVM and creates a JavaSparkContext. By default, PySpark has SparkContext available as ‘sc’, so creating a new SparkContext won't work.\n",
    "\n",
    "![data flow](img/sparkcontext.jpg)\n",
    "\n",
    "* [embedding pic in jupyter nb](https://stackoverflow.com/questions/32370281/how-to-embed-image-or-picture-in-jupyter-notebook-either-from-a-local-machine-o)\n",
    "\n",
    "\n",
    "## SparkContext class\n",
    "\n",
    "The following code block has the details of a PySpark class and the parameters, which a SparkContext can take.\n",
    "\n",
    "```python\n",
    "\n",
    "class pyspark.SparkContext (\n",
    "   master = None,\n",
    "   appName = None, \n",
    "   sparkHome = None, \n",
    "   pyFiles = None, \n",
    "   environment = None, \n",
    "   batchSize = 0, \n",
    "   serializer = PickleSerializer(), \n",
    "   conf = None, \n",
    "   gateway = None, \n",
    "   jsc = None, \n",
    "   profiler_cls = <class 'pyspark.profiler.BasicProfiler'>\n",
    ")\n",
    "```\n",
    "\n",
    "### Parameters\n",
    "\n",
    "- **Master** − It is the URL of the cluster it connects to.\n",
    "- **appName** − Name of your job\n",
    "- **sparkHome** - Spark installation directory.\n",
    "- **pyFiles** − The .zip or .py files to send to the cluster and add to the PYTHONPATH.\n",
    "- **Environment** − Worker nodes environment variables.\n",
    "- **batchSize** − The number of Python objects represented as a single Java object. Set 1 to disable batching, 0 to automatically choose the batch size based on object sizes, or -1 to use an unlimited batch size.\n",
    "- **Serializer** − RDD serializer.\n",
    "- **Conf** − An object of L{SparkConf} to set all the Spark properties.\n",
    "- **Gateway** − Use an existing gateway and JVM, otherwise initializing a new JVM.\n",
    "- **JSC** − The JavaSparkContext instance.\n",
    "- **profiler_cls** − A class of custom Profiler used to do profiling (the default is pyspark.profiler.BasicProfiler).\n",
    "\n",
    "Now let's try running on python"
   ]
  },
  {
   "cell_type": "code",
   "execution_count": 1,
   "metadata": {},
   "outputs": [
    {
     "name": "stdout",
     "output_type": "stream",
     "text": [
      "/home/wataru/spark\n"
     ]
    }
   ],
   "source": [
    "from pyspark import SparkContext\n",
    "import os\n",
    "cdw = os.getcwd() # current working dir\n",
    "print(cdw)\n",
    "logFile = \"spark_setup.md\"\n",
    "PATH = os.path.join(cdw, logFile)\n",
    "\n",
    "sc = SparkContext(\"local\", \"first app\") # Master URL and appName\n",
    "data = sc.textFile(PATH).cache()\n"
   ]
  },
  {
   "cell_type": "code",
   "execution_count": 2,
   "metadata": {},
   "outputs": [
    {
     "name": "stdout",
     "output_type": "stream",
     "text": [
      "total 6 lines, with 3 headers\n"
     ]
    }
   ],
   "source": [
    "numLines = data.count() # of lines\n",
    "# now filter content\n",
    "headers = data.filter(lambda s: \"#\" in s).count() \n",
    "print(\"total %i lines, with %i headers\" % (numLines, headers))"
   ]
  }
 ],
 "metadata": {
  "kernelspec": {
   "display_name": "Python 3",
   "language": "python",
   "name": "python3"
  },
  "language_info": {
   "codemirror_mode": {
    "name": "ipython",
    "version": 3
   },
   "file_extension": ".py",
   "mimetype": "text/x-python",
   "name": "python",
   "nbconvert_exporter": "python",
   "pygments_lexer": "ipython3",
   "version": "3.6.8"
  }
 },
 "nbformat": 4,
 "nbformat_minor": 2
}
