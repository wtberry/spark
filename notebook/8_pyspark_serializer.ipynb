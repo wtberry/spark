{
 "cells": [
  {
   "cell_type": "markdown",
   "metadata": {},
   "source": [
    "# PySpark - part 8\n",
    "\n",
    "## Serializers\n",
    "\n",
    "- [What is serialization??](https://en.wikipedia.org/wiki/Serialization)\n",
    "\n",
    "Serialization is used for performance tuning on Apache Spark. All data that is sent over the network or written to the disk or persisted in the memory should be serialized. Serialization plays an important role in costly operations.\n",
    "\n",
    "PySpark supports custom serializers for performance tuning. The following two serializers are supported by PySpark −\n",
    "\n",
    "### MarshalSerializer\n",
    "\n",
    "Faster than PickleSerializer, but support fewer datatypes.\n",
    "\n",
    "```python\n",
    "class pyspark.MarshalSerializer\n",
    "```\n",
    "\n",
    "### PickleSerializer\n",
    "\n",
    "Serialize objects using python's Pickle Serializer. Supports nearly any objects, but may not be as fast as Marshal.\n",
    "\n",
    "```python\n",
    "class pyspark.PickleSerializer\n",
    "```\n",
    "\n",
    "### Examples\n",
    "\n",
    "Here, we use MarshalSerializer"
   ]
  },
  {
   "cell_type": "code",
   "execution_count": 2,
   "metadata": {},
   "outputs": [
    {
     "name": "stdout",
     "output_type": "stream",
     "text": [
      "[0, 2, 4, 6, 8, 10, 12, 14, 16, 18]\n"
     ]
    }
   ],
   "source": [
    "from pyspark.context import SparkContext\n",
    "from pyspark.serializers import MarshalSerializer\n",
    "sc = SparkContext('local', 'Serializer app', serializer=MarshalSerializer())\n",
    "print(sc.parallelize(list(range(1000))).map(lambda x: 2*x).take(10))\n",
    "sc.stop()"
   ]
  }
 ],
 "metadata": {
  "kernelspec": {
   "display_name": "Python 3",
   "language": "python",
   "name": "python3"
  },
  "language_info": {
   "codemirror_mode": {
    "name": "ipython",
    "version": 3
   },
   "file_extension": ".py",
   "mimetype": "text/x-python",
   "name": "python",
   "nbconvert_exporter": "python",
   "pygments_lexer": "ipython3",
   "version": "3.6.8"
  }
 },
 "nbformat": 4,
 "nbformat_minor": 2
}
