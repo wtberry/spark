{
 "cells": [
  {
   "cell_type": "markdown",
   "metadata": {},
   "source": [
    "# PySpark part 6\n",
    "\n",
    "## StorageLevel\n",
    "\n",
    "StorageLevel decides how RDD should be stored. In Apache Spark, StorageLevel decides whether RDD should be stored in the memory or should it be stored over the disk, or both. It also decides whether to serialize RDD and whether to replicate RDD partitions.\n",
    "\n",
    "The following code block has the class definition of a StorageLevel −\n",
    "\n",
    "```python\n",
    "class pyspark.StorageLevel(useDisk, useMemory, useOffHeap, deserialized, replication=1)\n",
    "```\n",
    "### Terminology\n",
    "\n",
    "Now, to decide the storage of RDD, there are different storage levels, which are given below −\n",
    "\n",
    "- `DISK_ONLY` = StorageLevel(True, False, False, False, 1)\n",
    "- `DISK_ONLY_2` = StorageLevel(True, False, False, False, 2)\n",
    "- `MEMORY_AND_DISK` = StorageLevel(True, True, False, False, 1)\n",
    "- `MEMORY_AND_DISK_2` = StorageLevel(True, True, False, False, 2)\n",
    "- `MEMORY_AND_DISK_SER` = StorageLevel(True, True, False, False, 1)\n",
    "- `MEMORY_AND_DISK_SER_2` = StorageLevel(True, True, False, False, 2)\n",
    "- `MEMORY_ONLY` = StorageLevel(False, True, False, False, 1)\n",
    "- `MEMORY_ONLY_2` = StorageLevel(False, True, False, False, 2)\n",
    "- `MEMORY_ONLY_SER` = StorageLevel(False, True, False, False, 1)\n",
    "- `MEMORY_ONLY_SER_2` = StorageLevel(False, True, False, False, 2)\n",
    "- `OFF_HEAP` = StorageLevel(True, True, True, False, 1)\n",
    "\n",
    "### Example\n",
    "\n",
    "Let us consider the following example of StorageLevel, where we use the storage level MEMORY_AND_DISK_2, which means RDD partitions will have replication of 2.\n",
    "\n"
   ]
  },
  {
   "cell_type": "code",
   "execution_count": 1,
   "metadata": {},
   "outputs": [
    {
     "name": "stdout",
     "output_type": "stream",
     "text": [
      "Disk Memory Serialized 2x Replicated\n"
     ]
    }
   ],
   "source": [
    "from pyspark import SparkContext\n",
    "import pyspark\n",
    "sc = SparkContext('local', 'StorageLevel App')\n",
    "rdd = sc.parallelize([1,2])\n",
    "rdd.persist(pyspark.StorageLevel.MEMORY_AND_DISK_2)\n",
    "print(rdd.getStorageLevel())"
   ]
  }
 ],
 "metadata": {
  "kernelspec": {
   "display_name": "Python 3",
   "language": "python",
   "name": "python3"
  },
  "language_info": {
   "codemirror_mode": {
    "name": "ipython",
    "version": 3
   },
   "file_extension": ".py",
   "mimetype": "text/x-python",
   "name": "python",
   "nbconvert_exporter": "python",
   "pygments_lexer": "ipython3",
   "version": "3.6.8"
  }
 },
 "nbformat": 4,
 "nbformat_minor": 2
}
