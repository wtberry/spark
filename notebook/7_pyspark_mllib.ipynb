{
 "cells": [
  {
   "cell_type": "markdown",
   "metadata": {},
   "source": [
    "# PySpark part 7\n",
    "\n",
    "## MLlib\n",
    "\n",
    "Apache Spark offers a Machine Learning API called MLlib. PySpark has this machine learning API in Python as well. It supports different kind of algorithms, which are mentioned below −\n",
    "\n",
    "* `mllib.classification`: Library for classification algorithms, such as random forest, naive bayes, decision tree.\n",
    "* `millib.clustering`: self explanatory\n",
    "* `mllib.fpm`: **Frequent Pattern Matching** mines for frequent items, itemsets, subsequences or other substructures\n",
    "* `millib.linalg`: linear algebra tools\n",
    "* `millib.recommendation`:collaborative filtering for recommendation systems.\n",
    "* `spark.millib`: It ¬currently supports model-based collaborative filtering, in which users and products are described by a small set of latent factors that can be used to predict missing entries. spark.mllib uses the Alternating Least Squares (ALS) algorithm to learn these latent factors. ..\n",
    "\n",
    "**Wtf does this mean??** -> [How do you build a “People who bought this also bought that”-style recommendation engine](https://datasciencemadesimpler.wordpress.com/tag/alternating-least-squares/)\n",
    "* `millib.regression`: family of regression algorithms, including linear.\n",
    "\n",
    "### Example\n",
    "\n",
    "The following example is of collaborative filtering using ALS algorithm to build the recommendation model and evaluate it on training data.\n"
   ]
  },
  {
   "cell_type": "code",
   "execution_count": 1,
   "metadata": {},
   "outputs": [
    {
     "data": {
      "text/plain": [
       "[['1', '1', '5.0'],\n",
       " ['1', '2', '1.0'],\n",
       " ['1', '3', '5.0'],\n",
       " ['1', '4', '1.0'],\n",
       " ['2', '1', '5.0'],\n",
       " ['2', '2', '1.0'],\n",
       " ['2', '3', '5.0'],\n",
       " ['2', '4', '1.0'],\n",
       " ['3', '1', '1.0'],\n",
       " ['3', '2', '5.0'],\n",
       " ['3', '3', '1.0'],\n",
       " ['3', '4', '5.0'],\n",
       " ['4', '1', '1.0'],\n",
       " ['4', '2', '5.0'],\n",
       " ['4', '3', '1.0'],\n",
       " ['4', '4', '5.0']]"
      ]
     },
     "execution_count": 1,
     "metadata": {},
     "output_type": "execute_result"
    }
   ],
   "source": [
    "from pyspark import SparkContext\n",
    "from pyspark.mllib.recommendation import ALS, MatrixFactorizationModel, Rating\n",
    "\n",
    "\n",
    "sc = SparkContext('local', 'mllib app') # initialize the app\n",
    "data = sc.textFile('test.csv') # reading in data\n",
    "# then split into columns / matrix, let's see the outcome using .collect()\n",
    "data.map(lambda l: l.split(',')).collect()"
   ]
  },
  {
   "cell_type": "markdown",
   "metadata": {},
   "source": [
    "**That is the first 3 columns of the data**\n",
    "\n",
    "* 1 column represents: user id\n",
    "* 2 column represents: product id\n",
    "* 3 column represents: rating\n",
    "\n",
    "Now Let's apply map function again, to wrap each data point(row) into MLlib Rating class. That looks like..."
   ]
  },
  {
   "cell_type": "code",
   "execution_count": 2,
   "metadata": {},
   "outputs": [
    {
     "data": {
      "text/plain": [
       "[Rating(user=1, product=1, rating=5.0),\n",
       " Rating(user=1, product=2, rating=1.0),\n",
       " Rating(user=1, product=3, rating=5.0),\n",
       " Rating(user=1, product=4, rating=1.0),\n",
       " Rating(user=2, product=1, rating=5.0),\n",
       " Rating(user=2, product=2, rating=1.0),\n",
       " Rating(user=2, product=3, rating=5.0),\n",
       " Rating(user=2, product=4, rating=1.0),\n",
       " Rating(user=3, product=1, rating=1.0),\n",
       " Rating(user=3, product=2, rating=5.0),\n",
       " Rating(user=3, product=3, rating=1.0),\n",
       " Rating(user=3, product=4, rating=5.0),\n",
       " Rating(user=4, product=1, rating=1.0),\n",
       " Rating(user=4, product=2, rating=5.0),\n",
       " Rating(user=4, product=3, rating=1.0),\n",
       " Rating(user=4, product=4, rating=5.0)]"
      ]
     },
     "execution_count": 2,
     "metadata": {},
     "output_type": "execute_result"
    }
   ],
   "source": [
    "ratings = data.map(lambda l: l.split(','))\\\n",
    "      .map(lambda l: Rating(int(l[0]), int(l[1]), float(l[2])))\n",
    "\n",
    "# let's take a look at the data\n",
    "ratings.collect()\n"
   ]
  },
  {
   "cell_type": "code",
   "execution_count": 3,
   "metadata": {},
   "outputs": [
    {
     "data": {
      "text/plain": [
       "[Rating(user=4, product=4, rating=4.996066843190942),\n",
       " Rating(user=4, product=1, rating=1.00118534493132),\n",
       " Rating(user=4, product=3, rating=1.00118534493132),\n",
       " Rating(user=4, product=2, rating=4.996066843190942),\n",
       " Rating(user=1, product=4, rating=1.0010165607980466),\n",
       " Rating(user=1, product=1, rating=4.996910639807666),\n",
       " Rating(user=1, product=3, rating=4.996910639807666),\n",
       " Rating(user=1, product=2, rating=1.0010165607980466),\n",
       " Rating(user=3, product=4, rating=4.996066843190942),\n",
       " Rating(user=3, product=1, rating=1.00118534493132),\n",
       " Rating(user=3, product=3, rating=1.00118534493132),\n",
       " Rating(user=3, product=2, rating=4.996066843190942),\n",
       " Rating(user=2, product=4, rating=1.0010165607980466),\n",
       " Rating(user=2, product=1, rating=4.996910639807666),\n",
       " Rating(user=2, product=3, rating=4.996910639807666),\n",
       " Rating(user=2, product=2, rating=1.0010165607980466)]"
      ]
     },
     "execution_count": 3,
     "metadata": {},
     "output_type": "execute_result"
    }
   ],
   "source": [
    "## Looks good!! now we move on to build a model using \n",
    "## Alternating Least Squares (ALS)\n",
    "rank = 10\n",
    "numIteration = 10\n",
    "model = ALS.train(ratings, rank, numIteration)\n",
    "# ratings: RDD of Rating class tuple, rank: number of features to use\n",
    "\n",
    "# Evaluate the model on training data\n",
    "## first extract user id and product id only.\n",
    "testdata = ratings.map(lambda p: (p[0], p[1]))\n",
    "prediction = model.predictAll(testdata)\n",
    "# let's see the output of prediction\n",
    "prediction.collect()"
   ]
  },
  {
   "cell_type": "code",
   "execution_count": 4,
   "metadata": {},
   "outputs": [
    {
     "data": {
      "text/plain": [
       "[((4, 4), 4.996066843190942),\n",
       " ((4, 1), 1.00118534493132),\n",
       " ((4, 3), 1.00118534493132),\n",
       " ((4, 2), 4.996066843190942),\n",
       " ((1, 4), 1.0010165607980466),\n",
       " ((1, 1), 4.996910639807666),\n",
       " ((1, 3), 4.996910639807666),\n",
       " ((1, 2), 1.0010165607980466),\n",
       " ((3, 4), 4.996066843190942),\n",
       " ((3, 1), 1.00118534493132),\n",
       " ((3, 3), 1.00118534493132),\n",
       " ((3, 2), 4.996066843190942),\n",
       " ((2, 4), 1.0010165607980466),\n",
       " ((2, 1), 4.996910639807666),\n",
       " ((2, 3), 4.996910639807666),\n",
       " ((2, 2), 1.0010165607980466)]"
      ]
     },
     "execution_count": 4,
     "metadata": {},
     "output_type": "execute_result"
    }
   ],
   "source": [
    "## Now that is a list of rating class with predictions. \n",
    "# We will map this into list of nested tuples.\n",
    "prediction = prediction.map(lambda r: ((r[0], r[1]), r[2]))\n",
    "\n",
    "#which outputs..\n",
    "prediction.collect()"
   ]
  },
  {
   "cell_type": "code",
   "execution_count": 6,
   "metadata": {},
   "outputs": [
    {
     "name": "stdout",
     "output_type": "stream",
     "text": [
      "Mean Squared Error = 6.8630768362371275e-06\n"
     ]
    }
   ],
   "source": [
    "## what is this??\n",
    "ratesAndPreds = ratings.map(lambda r: ((r[0], r[1]), r[2])).join(prediction)\n",
    "\n",
    "# calculate MSE\n",
    "MSE = ratesAndPreds.map(lambda r: (r[1][0] - r[1][1])**2).mean()\n",
    "print(\"Mean Squared Error = \" + str(MSE))"
   ]
  },
  {
   "cell_type": "code",
   "execution_count": null,
   "metadata": {},
   "outputs": [],
   "source": [
    "## Now you can save and load your model like...\n",
    "\n",
    "model.save(sc, \"path/to/your/model/file\")\n",
    "   sameModel = MatrixFactorizationModel.load(sc, \"where/your/model/is\")"
   ]
  }
 ],
 "metadata": {
  "kernelspec": {
   "display_name": "Python 3",
   "language": "python",
   "name": "python3"
  },
  "language_info": {
   "codemirror_mode": {
    "name": "ipython",
    "version": 3
   },
   "file_extension": ".py",
   "mimetype": "text/x-python",
   "name": "python",
   "nbconvert_exporter": "python",
   "pygments_lexer": "ipython3",
   "version": "3.6.8"
  }
 },
 "nbformat": 4,
 "nbformat_minor": 2
}
