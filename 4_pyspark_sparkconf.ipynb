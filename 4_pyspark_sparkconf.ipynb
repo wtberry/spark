{
 "cells": [
  {
   "cell_type": "markdown",
   "metadata": {},
   "source": [
    "# PySpark - part 4: SparkConf\n",
    "\n",
    "**Spark Conf** helps you with setting up necessary parameters for you to run spark application on local / cluster.\n",
    "\n",
    "This is how SparkConf class is defined.\n",
    "```python\n",
    "class pyspark.SparkConf (\n",
    "    loadDefaults = True,\n",
    "    _jvm = None,\n",
    "    _jconf = None\n",
    ")\n",
    "```\n",
    "\n",
    "## terminology\n",
    "\n",
    "Initially, we will create a SparkConf object with SparkConf(), which will load the values from spark.* Java system properties as well.\n",
    "\n",
    "In a SparkConf class, there are setter methods, which support chaining. For example, you can write `conf.setAppName(“PySpark App”).setMaster(“local”)`. Once we pass a SparkConf object to Apache Spark, it cannot be modified by any user.\n",
    "\n",
    "Following are some of the most commonly used attributes of SparkConf −\n",
    "\n",
    "* `set(key, value)` - to set config property.\n",
    "* `setMaster(value)` - to set master URL.\n",
    "* `setAppName(value)` - to set an application name\n",
    "* `get(key, defaultValue=None)` - to get a config value of a key\n",
    "* `setSparkHome(Value)` - to set Spark installation path on worker nodes.\n",
    "\n",
    "Now let's take a look at how this works in action. \n",
    "We will first set up spark application, with name of **PySpark App** and set the master URL as **spark://master:7077**."
   ]
  },
  {
   "cell_type": "code",
   "execution_count": null,
   "metadata": {},
   "outputs": [],
   "source": [
    "from pyspark import SparkConf, SparkContext\n",
    "#sc.stop()\n",
    "# now initialize SparkConf, and use the setters to set up parameters\n",
    "conf = SparkConf().setAppName('PySpark App').setMaster(\"spark://master:7077\")\n",
    "# then pass it to SparkContext as we instantiate it\n",
    "sc = SparkContext(conf=conf)"
   ]
  }
 ],
 "metadata": {
  "kernelspec": {
   "display_name": "Python 3",
   "language": "python",
   "name": "python3"
  },
  "language_info": {
   "codemirror_mode": {
    "name": "ipython",
    "version": 3
   },
   "file_extension": ".py",
   "mimetype": "text/x-python",
   "name": "python",
   "nbconvert_exporter": "python",
   "pygments_lexer": "ipython3",
   "version": "3.6.8"
  }
 },
 "nbformat": 4,
 "nbformat_minor": 2
}
